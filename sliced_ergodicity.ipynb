{
 "cells": [
  {
   "cell_type": "code",
   "execution_count": 172,
   "metadata": {},
   "outputs": [],
   "source": [
    "import numpy as np\n",
    "np.set_printoptions(precision=4)\n",
    "from scipy.stats import norm, multivariate_normal as mvn\n",
    "import matplotlib.pyplot as plt\n",
    "import matplotlib as mpl\n",
    "\n",
    "mpl.rcParams['axes.linewidth'] = 3\n",
    "mpl.rcParams['axes.titlesize'] = 20\n",
    "mpl.rcParams['axes.labelsize'] = 20\n",
    "mpl.rcParams['axes.titlepad'] = 8.0\n",
    "mpl.rcParams['xtick.major.size'] = 6\n",
    "mpl.rcParams['xtick.major.width'] = 3\n",
    "mpl.rcParams['xtick.labelsize'] = 20\n",
    "mpl.rcParams['ytick.major.size'] = 6\n",
    "mpl.rcParams['ytick.major.width'] = 3\n",
    "mpl.rcParams['ytick.labelsize'] = 20\n",
    "mpl.rcParams['lines.markersize'] = 5\n",
    "mpl.rcParams['lines.linewidth'] = 5\n",
    "mpl.rcParams['legend.fontsize'] = 15"
   ]
  },
  {
   "cell_type": "code",
   "execution_count": 173,
   "metadata": {},
   "outputs": [],
   "source": [
    "\n",
    "class OnlineEmpiricalCDF:\n",
    "    def __init__(self, n_cdfs, n_bins=40000, value_range=(-1.0, 1.0)):\n",
    "        \"\"\"\n",
    "        n_cdfs: number of CDFs to track (e.g., number of projection directions)\n",
    "        n_bins: number of histogram bins\n",
    "        value_range: (min_val, max_val) range of expected values\n",
    "        \"\"\"\n",
    "        self.K = n_cdfs\n",
    "        self.n_bins = n_bins\n",
    "        self.vmin, self.vmax = value_range\n",
    "\n",
    "        self.bin_edges = np.linspace(self.vmin, self.vmax, n_bins + 1)\n",
    "        self.bin_counts = np.zeros((self.K, n_bins), dtype=np.int32)\n",
    "        self.total_counts = np.zeros(self.K, dtype=np.int32)\n",
    "\n",
    "    def _bin_indices(self, values):\n",
    "        # Map values to histogram bin indices\n",
    "        scaled = (values - self.vmin) / (self.vmax - self.vmin)\n",
    "        indices = np.floor(scaled * self.n_bins).astype(np.int32)\n",
    "        return np.clip(indices, 0, self.n_bins - 1)\n",
    "\n",
    "    def update(self, values):\n",
    "        \"\"\"\n",
    "        values: array of shape (K,) — new projected values (one per CDF)\n",
    "        \"\"\"\n",
    "        assert values.shape == (self.K,), \"Input must have shape (n_cdfs,)\"\n",
    "        indices = self._bin_indices(values)\n",
    "        for k in range(self.K):\n",
    "            self.bin_counts[k, indices[k]] += 1\n",
    "            self.total_counts[k] += 1\n",
    "\n",
    "    def query(self, values):\n",
    "        \"\"\"\n",
    "        values: array of shape (K,) — query CDF values (one per CDF)\n",
    "        Returns: array of shape (K,) — CDF estimates\n",
    "        \"\"\"\n",
    "        assert values.shape == (self.K,), \"Input must have shape (n_cdfs,)\"\n",
    "        indices = self._bin_indices(values)\n",
    "        cdf_vals = np.zeros(self.K)\n",
    "        for k in range(self.K):\n",
    "            count = self.bin_counts[k, :indices[k]].sum()\n",
    "            total = self.total_counts[k]\n",
    "            cdf_vals[k] = count / total if total > 0 else 0.0\n",
    "        return cdf_vals\n",
    "    def query_update(self, values):\n",
    "        assert values.shape == (self.K,), \"Input must have shape (n_cdfs,)\"\n",
    "\n",
    "        indices = self._bin_indices(values)  # shape (K,)\n",
    "\n",
    "        # Compute cumulative sums once for all cdfs\n",
    "        cumsum_counts = np.cumsum(self.bin_counts, axis=1)  # shape (K, n_bins)\n",
    "\n",
    "        # counts_before[k] = sum of bins before indices[k]\n",
    "        # Handle case indices[k] == 0 (no bins before)\n",
    "        counts_before = np.where(indices > 0, cumsum_counts[np.arange(self.K), indices - 1], 0)\n",
    "\n",
    "        totals_before = self.total_counts\n",
    "        cdf_vals = np.where(totals_before > 0, counts_before / totals_before, 0.0)\n",
    "\n",
    "        # Update counts\n",
    "        self.total_counts += 1\n",
    "        self.bin_counts[np.arange(self.K), indices] += 1\n",
    "\n",
    "        return cdf_vals\n",
    "    \"\"\" def query_update(self, values):\n",
    "    \"\"\"\n",
    "        #values: array of shape (K,) — input values to query and then update\n",
    "        #Returns: array of shape (K,) — CDF estimates *before* update\n",
    "    \"\"\"\n",
    "        assert values.shape == (self.K,), \"Input must have shape (n_cdfs,)\"\n",
    "\n",
    "        indices = self._bin_indices(values)\n",
    "\n",
    "        # Compute CDF values before updating\n",
    "        mask = np.arange(self.n_bins)[None, :] < indices[:, None]  # shape (K, n_bins)\n",
    "        counts_before = np.sum(self.bin_counts * mask, axis=1)\n",
    "        totals_before = self.total_counts\n",
    "        cdf_vals = np.where(totals_before > 0, counts_before / totals_before, 0.0)\n",
    "\n",
    "        # Update in same pass\n",
    "        self.total_counts += 1\n",
    "        self.bin_counts[np.arange(self.K), indices] += 1\n",
    "\n",
    "        return cdf_vals\"\"\"\n"
   ]
  },
  {
   "cell_type": "code",
   "execution_count": 174,
   "metadata": {},
   "outputs": [],
   "source": [
    "class FenwickTree:\n",
    "    def __init__(self, size):\n",
    "        self.size = size\n",
    "        self.tree = np.zeros(size + 1, dtype=np.int64)  # 1-based indexing\n",
    "\n",
    "    def update(self, index, delta=1):\n",
    "        # index: 0-based, Fenwick uses 1-based internally\n",
    "        i = index + 1\n",
    "        while i <= self.size:\n",
    "            self.tree[i] += delta\n",
    "            i += i & (-i)\n",
    "\n",
    "    def query(self, index):\n",
    "        # prefix sum up to index (0-based)\n",
    "        i = index + 1\n",
    "        s = 0\n",
    "        while i > 0:\n",
    "            s += self.tree[i]\n",
    "            i -= i & (-i)\n",
    "        return s\n",
    "    \n",
    "class OnlineEmpiricalCDF:\n",
    "    def __init__(self, n_cdfs, n_bins=40000, value_range=(-1.0, 1.0)):\n",
    "        self.K = n_cdfs\n",
    "        self.n_bins = n_bins\n",
    "        self.vmin, self.vmax = value_range\n",
    "        self.bin_edges = np.linspace(self.vmin, self.vmax, n_bins + 1)\n",
    "        self.total_counts = np.zeros(self.K, dtype=np.int64)\n",
    "        # Create one Fenwick tree per CDF\n",
    "        self.fenwicks = [FenwickTree(n_bins) for _ in range(n_cdfs)]\n",
    "\n",
    "    def _bin_indices(self, values):\n",
    "        scaled = (values - self.vmin) / (self.vmax - self.vmin)\n",
    "        indices = np.floor(scaled * self.n_bins).astype(np.int32)\n",
    "        return np.clip(indices, 0, self.n_bins - 1)\n",
    "\n",
    "    def update(self, values):\n",
    "        indices = self._bin_indices(values)\n",
    "        for k in range(self.K):\n",
    "            self.fenwicks[k].update(indices[k])\n",
    "            self.total_counts[k] += 1\n",
    "\n",
    "    def query(self, values):\n",
    "        indices = self._bin_indices(values)\n",
    "        cdf_vals = np.zeros(self.K)\n",
    "        for k in range(self.K):\n",
    "            if self.total_counts[k] > 0:\n",
    "                cdf_vals[k] = self.fenwicks[k].query(indices[k]) / self.total_counts[k]\n",
    "            else:\n",
    "                cdf_vals[k] = 0.0\n",
    "        return cdf_vals\n",
    "\n",
    "    def query_update(self, values):\n",
    "        indices = self._bin_indices(values)\n",
    "        cdf_vals = np.zeros(self.K)\n",
    "        for k in range(self.K):\n",
    "            if self.total_counts[k] > 0:\n",
    "                cdf_vals[k] = self.fenwicks[k].query(indices[k] - 1) / self.total_counts[k] if indices[k] > 0 else 0.0\n",
    "            else:\n",
    "                cdf_vals[k] = 0.0\n",
    "            self.fenwicks[k].update(indices[k])\n",
    "            self.total_counts[k] += 1\n",
    "        return cdf_vals\n"
   ]
  },
  {
   "cell_type": "code",
   "execution_count": 175,
   "metadata": {},
   "outputs": [],
   "source": [
    "mean1 = np.array([0.35, 0.38])\n",
    "cov1 = np.array([\n",
    "    [0.01, 0.004],\n",
    "    [0.004, 0.01]\n",
    "])\n",
    "w1 = 0.6\n",
    "\n",
    "mean2 = np.array([0.68, 0.25])\n",
    "cov2 = np.array([\n",
    "    [0.005, -0.003],\n",
    "    [-0.003, 0.005]\n",
    "])\n",
    "w2 = 0.2\n",
    "\n",
    "mean3 = np.array([0.56, 0.64])\n",
    "cov3 = np.array([\n",
    "    [0.008, 0.0],\n",
    "    [0.0, 0.004]\n",
    "])\n",
    "\n",
    "w3 = 0.1\n",
    "\n",
    "mean4 = np.array([0.22, 0.74])\n",
    "cov4 = np.array([\n",
    "    [0.01, 0.004],\n",
    "    [0.004, 0.01]\n",
    "])\n",
    "w4 = 0.1\n",
    "\n",
    "def pdf(x):\n",
    "    return w1 * mvn.pdf(x, mean1, cov1) + \\\n",
    "           w2 * mvn.pdf(x, mean2, cov2) + \\\n",
    "           w3 * mvn.pdf(x, mean3, cov3) + \\\n",
    "           w4 * mvn.pdf(x, mean4, cov4)"
   ]
  },
  {
   "cell_type": "code",
   "execution_count": 176,
   "metadata": {},
   "outputs": [],
   "source": [
    "# Mixture components\n",
    "means = np.stack([mean1, mean2, mean3, mean4])\n",
    "covs = np.stack([cov1, cov2, cov3, cov4])\n",
    "weights = np.array([w1, w2, w3, w4])\n",
    "\n",
    "def projected_pdf_cdf_mog(dirs, xt, means, covs, weights):\n",
    "    \"\"\"\n",
    "    dirs: (K, 2) projection directions\n",
    "    xt: (2,) current point\n",
    "    means: (M, 2)\n",
    "    covs: (M, 2, 2)\n",
    "    weights: (M,)\n",
    "    Returns: pdfs (K,), cdfs (K,), proj_xt (K,)\n",
    "    \"\"\"\n",
    "    K = dirs.shape[0]\n",
    "    M = means.shape[0]\n",
    "    # Project xt to each direction\n",
    "    proj_xt = dirs @ xt            # (K,)\n",
    "    \n",
    "    # Project means: (M, K)\n",
    "    proj_means = means @ dirs.T    # (M, K)\n",
    "    \n",
    "    # Project variances: θᵢᵀ Σ θᵢ for each (K, M)\n",
    "    proj_vars = np.zeros((M, K))\n",
    "    for m in range(M):\n",
    "        Sigma_m = covs[m]  # (2, 2)\n",
    "        proj_vars[m] = np.sum(dirs @ Sigma_m * dirs, axis=1)  # (K,)\n",
    "\n",
    "    proj_stds = np.sqrt(proj_vars + 1e-12)  # (M, K), numerical stability\n",
    "\n",
    "    # Compute PDF and CDF for each component at proj_xt: (M, K)\n",
    "    proj_xt_expand = proj_xt[None, :]  # (1, K)\n",
    "    pdfs = norm.pdf(proj_xt_expand, loc=proj_means, scale=proj_stds)  # (M, K)\n",
    "    cdfs = norm.cdf(proj_xt_expand, loc=proj_means, scale=proj_stds)  # (M, K)\n",
    "\n",
    "    # Weighted sum over components\n",
    "    weighted_pdfs = (weights[:, None] * pdfs).sum(axis=0)  # (K,)\n",
    "    weighted_cdfs = (weights[:, None] * cdfs).sum(axis=0)  # (K,)\n",
    "\n",
    "    return weighted_pdfs, weighted_cdfs, proj_xt"
   ]
  },
  {
   "cell_type": "code",
   "execution_count": 177,
   "metadata": {},
   "outputs": [],
   "source": [
    "#!python3 -m pip install POT\n",
    "\"\"\" This seems to be the best metric for now\"\"\"\n",
    "L_list = np.array([1.0, 1.0])  # boundaries for each dimension\n",
    "num_grid = 100\n",
    "grids_x, grids_y = np.meshgrid(\n",
    "    np.linspace(0, L_list[0], num_grid),\n",
    "    np.linspace(0, L_list[1], num_grid)\n",
    ")\n",
    "grids = np.array([grids_x.ravel(), grids_y.ravel()]).T\n",
    "pdf_vals = pdf(grids)\n",
    "\n",
    "import ot\n",
    "def sample_from_density_2d(p_vals, x_grid, y_grid, n_samples = 10000):\n",
    "    \"\"\"Sample from 2D density given over meshgrid\"\"\"\n",
    "    H, W = p_vals.shape\n",
    "    flat_p = p_vals.ravel()\n",
    "    flat_p /= flat_p.sum()  # Normalize\n",
    "\n",
    "    indices = np.random.choice(H * W, size=n_samples, p=flat_p)\n",
    "    x_flat = x_grid.ravel()[indices]\n",
    "    y_flat = y_grid.ravel()[indices]\n",
    "    return np.stack([x_flat, y_flat], axis=1)\n",
    "\n",
    "def compute_wasserstein_2d(p_vals, x_grid, y_grid, f_vals, n_samples=10000):\n",
    "    \"\"\"\n",
    "    p_vals: shape (H, W) — density over 2D domain\n",
    "    x_grid, y_grid: shape (H, W) — meshgrid defining coordinates\n",
    "    f_vals: shape (N, 2) — pushforward samples along f:[0,1]->X\n",
    "    \"\"\"\n",
    "\n",
    "    # Sample from μ\n",
    "    mu_samples = sample_from_density_2d(p_vals, x_grid, y_grid, n_samples)\n",
    "\n",
    "    # Downsample or interpolate f_vals to n_samples\n",
    "    if len(f_vals) > n_samples:\n",
    "        indices = np.linspace(0, len(f_vals)-1, n_samples).astype(int)\n",
    "        nu_samples = f_vals[indices]\n",
    "    else:\n",
    "        nu_samples = f_vals\n",
    "\n",
    "    # Empirical uniform weights\n",
    "    a = np.ones(len(mu_samples)) / len(mu_samples)\n",
    "    b = np.ones(len(nu_samples)) / len(nu_samples)\n",
    "\n",
    "    # Compute cost matrix (squared Euclidean distances)\n",
    "    M = ot.dist(mu_samples, nu_samples, metric='euclidean')\n",
    "    \n",
    "    # Compute Wasserstein-1\n",
    "    W1 = ot.emd2(a, b, M)  # returns W1^2 if squared, but here with p=1, it's W1\n",
    "\n",
    "    return W1\n",
    "\n",
    "def compute_importance_weights(dirs, means, covs, weights):\n",
    "    M, K = means.shape[0], dirs.shape[0]\n",
    "    proj_vars = np.zeros(K)\n",
    "    for k in range(K):\n",
    "        var_k = 0\n",
    "        for m in range(M):\n",
    "            Sigma_m = covs[m]\n",
    "            dir_k = dirs[k]\n",
    "            var_proj = dir_k @ Sigma_m @ dir_k  # scalar\n",
    "            var_k += weights[m] * var_proj\n",
    "        proj_vars[k] = var_k\n",
    "    return proj_vars"
   ]
  },
  {
   "cell_type": "code",
   "execution_count": 178,
   "metadata": {},
   "outputs": [],
   "source": [
    "# Parameters\n",
    "dt_emp = 0.01 ### Choose as the time we want i.e f:[0,t] -> X with t = dt_emp*T\n",
    "T = 100000\n",
    "dt = 1/T            # Time steps\n",
    "v_max = .2 * dt_emp * T # Max speed\n",
    "d = 2                # Dimension\n",
    "n_dirs = 50          # Number of projection directions\n",
    "# Projection directions (unit vectors on S^1)\n",
    "angles = np.random.uniform(0, 2 * np.pi, size=n_dirs)\n",
    "angles = np.linspace(0, 2 * np.pi, n_dirs)\n",
    "dirs = np.stack((np.cos(angles), np.sin(angles)), axis=1)  # shape: (n_dirs, 2)\n",
    "\n",
    "# Mixture components\n",
    "means = np.stack([mean1, mean2, mean3, mean4])\n",
    "covs = np.stack([cov1, cov2, cov3, cov4])\n",
    "weights = np.array([w1, w2, w3, w4])\n",
    "\n",
    "def projected_pdf_cdf_mog(dirs, xt, means, covs, weights):\n",
    "    \"\"\"\n",
    "    dirs: (K, 2) projection directions\n",
    "    xt: (2,) current point\n",
    "    means: (M, 2)\n",
    "    covs: (M, 2, 2)\n",
    "    weights: (M,)\n",
    "    Returns: pdfs (K,), cdfs (K,), proj_xt (K,)\n",
    "    \"\"\"\n",
    "    K = dirs.shape[0]\n",
    "    M = means.shape[0]\n",
    "    # Project xt to each direction\n",
    "    proj_xt = dirs @ xt            # (K,)\n",
    "    \n",
    "    # Project means: (M, K)\n",
    "    proj_means = means @ dirs.T    # (M, K)\n",
    "    \n",
    "    # Project variances: θᵢᵀ Σ θᵢ for each (K, M)\n",
    "    proj_vars = np.zeros((M, K))\n",
    "    for m in range(M):\n",
    "        Sigma_m = covs[m]  # (2, 2)\n",
    "        proj_vars[m] = np.sum(dirs @ Sigma_m * dirs, axis=1)  # (K,)\n",
    "\n",
    "    proj_stds = np.sqrt(proj_vars + 1e-4)  # (M, K), numerical stability\n",
    "\n",
    "    # Compute PDF and CDF for each component at proj_xt: (M, K)\n",
    "    proj_xt_expand = proj_xt[None, :]  # (1, K)\n",
    "    pdfs = norm.pdf(proj_xt_expand, loc=proj_means, scale=proj_stds)  # (M, K)\n",
    "    cdfs = norm.cdf(proj_xt_expand, loc=proj_means, scale=proj_stds)  # (M, K)\n",
    "\n",
    "    # Weighted sum over components\n",
    "    weighted_pdfs = (weights[:, None] * pdfs).sum(axis=0)  # (K,)\n",
    "    weighted_cdfs = (weights[:, None] * cdfs).sum(axis=0)  # (K,)\n",
    "\n",
    "    return weighted_pdfs, weighted_cdfs, proj_xt\n",
    "# Initialize f(t) in R^2\n",
    "f = np.zeros((T, d))\n",
    "f[0] = np.array([.5,.5])#np.random.uniform(low=0.0, high=1.0, size=(2,))\n",
    "\n",
    "# Time grid\n",
    "t_grid = np.linspace(0, 1, T)\n",
    "dt = t_grid[1] - t_grid[0]\n",
    "## The number of bins depends on v_max if large fewer suffice!\n",
    "emp_cdf = OnlineEmpiricalCDF(n_cdfs=n_dirs, n_bins=200000, value_range=(-np.sqrt(2), np.sqrt(2)))"
   ]
  },
  {
   "cell_type": "code",
   "execution_count": 179,
   "metadata": {},
   "outputs": [
    {
     "data": {
      "text/plain": [
       "999.9900000000001"
      ]
     },
     "execution_count": 179,
     "metadata": {},
     "output_type": "execute_result"
    }
   ],
   "source": [
    "1 / (v_max * dt) * 2"
   ]
  },
  {
   "cell_type": "code",
   "execution_count": 180,
   "metadata": {},
   "outputs": [
    {
     "name": "stdout",
     "output_type": "stream",
     "text": [
      "Step 1000/100000\n",
      "Step 2000/100000\n",
      "Step 3000/100000\n",
      "Step 4000/100000\n",
      "Step 5000/100000\n",
      "Step 6000/100000\n",
      "Step 7000/100000\n",
      "Step 8000/100000\n",
      "Step 9000/100000\n"
     ]
    },
    {
     "ename": "KeyboardInterrupt",
     "evalue": "",
     "output_type": "error",
     "traceback": [
      "\u001b[1;31m---------------------------------------------------------------------------\u001b[0m",
      "\u001b[1;31mKeyboardInterrupt\u001b[0m                         Traceback (most recent call last)",
      "\u001b[1;32mc:\\Users\\prass\\Documents\\ERgodclean\\Ergodic_control\\sliced_ergodicity.ipynb Cell 9\u001b[0m line \u001b[0;36m1\n\u001b[0;32m     <a href='vscode-notebook-cell:/c%3A/Users/prass/Documents/ERgodclean/Ergodic_control/sliced_ergodicity.ipynb#X11sZmlsZQ%3D%3D?line=12'>13</a>\u001b[0m pdfs, cdfs, proj_xt \u001b[39m=\u001b[39m projected_pdf_cdf_mog(dirs, f[i\u001b[39m-\u001b[39m\u001b[39m1\u001b[39m], means, covs, weights)\n\u001b[0;32m     <a href='vscode-notebook-cell:/c%3A/Users/prass/Documents/ERgodclean/Ergodic_control/sliced_ergodicity.ipynb#X11sZmlsZQ%3D%3D?line=13'>14</a>\u001b[0m proj[i\u001b[39m-\u001b[39m\u001b[39m1\u001b[39m] \u001b[39m=\u001b[39m proj_xt\n\u001b[1;32m---> <a href='vscode-notebook-cell:/c%3A/Users/prass/Documents/ERgodclean/Ergodic_control/sliced_ergodicity.ipynb#X11sZmlsZQ%3D%3D?line=14'>15</a>\u001b[0m F_push \u001b[39m=\u001b[39m (proj[:i,:] \u001b[39m<\u001b[39;49m\u001b[39m=\u001b[39;49m proj_xt[\u001b[39mNone\u001b[39;49;00m, :])\u001b[39m.\u001b[39;49mmean(axis\u001b[39m=\u001b[39;49m\u001b[39m0\u001b[39;49m)\n\u001b[0;32m     <a href='vscode-notebook-cell:/c%3A/Users/prass/Documents/ERgodclean/Ergodic_control/sliced_ergodicity.ipynb#X11sZmlsZQ%3D%3D?line=16'>17</a>\u001b[0m \u001b[39m#F_push = emp_cdf.query(proj_xt)  # shape: (n_dirs,)\u001b[39;00m\n\u001b[0;32m     <a href='vscode-notebook-cell:/c%3A/Users/prass/Documents/ERgodclean/Ergodic_control/sliced_ergodicity.ipynb#X11sZmlsZQ%3D%3D?line=17'>18</a>\u001b[0m \u001b[39m#emp_cdf.update(proj_xt)\u001b[39;00m\n\u001b[0;32m     <a href='vscode-notebook-cell:/c%3A/Users/prass/Documents/ERgodclean/Ergodic_control/sliced_ergodicity.ipynb#X11sZmlsZQ%3D%3D?line=18'>19</a>\u001b[0m \u001b[39m#F_push = emp_cdf.query_update(proj_xt)\u001b[39;00m\n\u001b[0;32m     <a href='vscode-notebook-cell:/c%3A/Users/prass/Documents/ERgodclean/Ergodic_control/sliced_ergodicity.ipynb#X11sZmlsZQ%3D%3D?line=19'>20</a>\u001b[0m \n\u001b[0;32m     <a href='vscode-notebook-cell:/c%3A/Users/prass/Documents/ERgodclean/Ergodic_control/sliced_ergodicity.ipynb#X11sZmlsZQ%3D%3D?line=20'>21</a>\u001b[0m \u001b[39m# Compare empirical vs. model CDF\u001b[39;00m\n\u001b[0;32m     <a href='vscode-notebook-cell:/c%3A/Users/prass/Documents/ERgodclean/Ergodic_control/sliced_ergodicity.ipynb#X11sZmlsZQ%3D%3D?line=21'>22</a>\u001b[0m deltas \u001b[39m=\u001b[39m F_push \u001b[39m-\u001b[39m cdfs\n",
      "File \u001b[1;32mc:\\Users\\prass\\AppData\\Local\\Programs\\Python\\Python311\\Lib\\site-packages\\numpy\\core\\_methods.py:101\u001b[0m, in \u001b[0;36m_mean\u001b[1;34m(a, axis, dtype, out, keepdims, where)\u001b[0m\n\u001b[0;32m     98\u001b[0m     \u001b[39melse\u001b[39;00m:\n\u001b[0;32m     99\u001b[0m         \u001b[39mreturn\u001b[39;00m um\u001b[39m.\u001b[39mclip(a, \u001b[39mmin\u001b[39m, \u001b[39mmax\u001b[39m, out\u001b[39m=\u001b[39mout, \u001b[39m*\u001b[39m\u001b[39m*\u001b[39mkwargs)\n\u001b[1;32m--> 101\u001b[0m \u001b[39mdef\u001b[39;00m \u001b[39m_mean\u001b[39m(a, axis\u001b[39m=\u001b[39m\u001b[39mNone\u001b[39;00m, dtype\u001b[39m=\u001b[39m\u001b[39mNone\u001b[39;00m, out\u001b[39m=\u001b[39m\u001b[39mNone\u001b[39;00m, keepdims\u001b[39m=\u001b[39m\u001b[39mFalse\u001b[39;00m, \u001b[39m*\u001b[39m, where\u001b[39m=\u001b[39m\u001b[39mTrue\u001b[39;00m):\n\u001b[0;32m    102\u001b[0m     arr \u001b[39m=\u001b[39m asanyarray(a)\n\u001b[0;32m    104\u001b[0m     is_float16_result \u001b[39m=\u001b[39m \u001b[39mFalse\u001b[39;00m\n",
      "\u001b[1;31mKeyboardInterrupt\u001b[0m: "
     ]
    }
   ],
   "source": [
    "Wasserstein = []\n",
    "proj = np.zeros([T, n_dirs])\n",
    "for i in range(1, T):\n",
    "    if i % 1000 == 0 and i != 1:\n",
    "        #w1 = compute_wasserstein_2d(pdf_vals.reshape(num_grid, num_grid), grids_x, grids_y, f[:i,:])\n",
    "        #Wasserstein.append(w1)\n",
    "        #print(f\"Wasserstein-1 distance: {w1:.4f}\")\n",
    "        #print(deltas.mean())\n",
    "        #print(grad, grad1)\n",
    "        print(f\"Step {i}/{T}\")\n",
    "\n",
    "    # Compute model-based PDF, CDF, and projections\n",
    "    pdfs, cdfs, proj_xt = projected_pdf_cdf_mog(dirs, f[i-1], means, covs, weights)\n",
    "    proj[i-1] = proj_xt\n",
    "    F_push = (proj[:i,:] <= proj_xt[None, :]).mean(axis=0)\n",
    "\n",
    "    #F_push = emp_cdf.query(proj_xt)  # shape: (n_dirs,)\n",
    "    #emp_cdf.update(proj_xt)\n",
    "    #F_push = emp_cdf.query_update(proj_xt)\n",
    "\n",
    "    # Compare empirical vs. model CDF\n",
    "    deltas = F_push - cdfs\n",
    "\n",
    "    # Stabilize PDFs to avoid divide-by-zero\n",
    "    pdfs = np.maximum(pdfs, 1e-6) # to prevent to ecentric moves\n",
    "    # Compute gradient in R^2 via backprojection\n",
    "    #grad = (deltas / pdfs) @ dirs\n",
    "    #grad = ((np.sign(deltas) * np.abs(deltas / (pdfs)))) @ dirs\n",
    "    \n",
    "    #grad1 = ((np.sign(deltas) * np.abs(deltas / (pdfs* dt) + 1 / (4 * pdfs)))) #@ dirs\n",
    "    #grad = (((deltas / (pdfs* dt)) + (np.sign(deltas) / (2 * pdfs)))) @ dirs\n",
    "    \n",
    "    #grad = deltas @ dirs\n",
    "    \n",
    "    grad = 1.5 * (deltas / (2 * pdfs * dt)) - 1 / (2 * pdfs) + (np.sign(deltas) / (2 * pdfs))\n",
    "    grad = grad @ dirs\n",
    "    # Normalize and Euler step\n",
    "    grad_norm = np.linalg.norm(grad)\n",
    "    grad /= grad_norm\n",
    "    f[i] = f[i - 1] + v_max * dt * grad\n"
   ]
  },
  {
   "cell_type": "markdown",
   "metadata": {},
   "source": [
    "Advantages: Algorithmn is more versatile, works finde for different speeds, increasing velocities, or rather larger delta ts computations!\n",
    "No issues with periodicity, are basis outside of the domain\n",
    "Higher accuracy as speed increases!"
   ]
  },
  {
   "cell_type": "markdown",
   "metadata": {},
   "source": [
    "i.e works better on coarser grid major bottle kneck approximation of cdf!"
   ]
  },
  {
   "cell_type": "code",
   "execution_count": null,
   "metadata": {},
   "outputs": [
    {
     "name": "stdout",
     "output_type": "stream",
     "text": [
      "Step 1000/100000\n",
      "Step 2000/100000\n",
      "Step 3000/100000\n",
      "Step 4000/100000\n",
      "Step 5000/100000\n",
      "Step 6000/100000\n",
      "Step 7000/100000\n",
      "Step 8000/100000\n",
      "Step 9000/100000\n",
      "Step 10000/100000\n",
      "Step 11000/100000\n",
      "Step 12000/100000\n",
      "Step 13000/100000\n",
      "Step 14000/100000\n",
      "Step 15000/100000\n",
      "Step 16000/100000\n",
      "Step 17000/100000\n",
      "Step 18000/100000\n",
      "Step 19000/100000\n",
      "Step 20000/100000\n",
      "Step 21000/100000\n",
      "Step 22000/100000\n",
      "Step 23000/100000\n",
      "Step 24000/100000\n",
      "Step 25000/100000\n",
      "Step 26000/100000\n",
      "Step 27000/100000\n",
      "Step 28000/100000\n",
      "Step 29000/100000\n",
      "Step 30000/100000\n",
      "Step 31000/100000\n",
      "Step 32000/100000\n",
      "Step 33000/100000\n",
      "Step 34000/100000\n",
      "Step 35000/100000\n",
      "Step 36000/100000\n",
      "Step 37000/100000\n",
      "Step 38000/100000\n",
      "Step 39000/100000\n",
      "Step 40000/100000\n",
      "Step 41000/100000\n",
      "Step 42000/100000\n",
      "Step 43000/100000\n",
      "Step 44000/100000\n",
      "Step 45000/100000\n",
      "Step 46000/100000\n",
      "Step 47000/100000\n",
      "Step 48000/100000\n",
      "Step 49000/100000\n",
      "Step 50000/100000\n",
      "Step 51000/100000\n",
      "Step 52000/100000\n",
      "Step 53000/100000\n",
      "Step 54000/100000\n",
      "Step 55000/100000\n",
      "Step 56000/100000\n",
      "Step 57000/100000\n",
      "Step 58000/100000\n",
      "Step 59000/100000\n",
      "Step 60000/100000\n",
      "Step 61000/100000\n",
      "Step 62000/100000\n",
      "Step 63000/100000\n",
      "Step 64000/100000\n",
      "Step 65000/100000\n",
      "Step 66000/100000\n",
      "Step 67000/100000\n",
      "Step 68000/100000\n",
      "Step 69000/100000\n",
      "Step 70000/100000\n",
      "Step 71000/100000\n",
      "Step 72000/100000\n",
      "Step 73000/100000\n",
      "Step 74000/100000\n",
      "Step 75000/100000\n",
      "Step 76000/100000\n",
      "Step 77000/100000\n",
      "Step 78000/100000\n",
      "Step 79000/100000\n",
      "Step 80000/100000\n",
      "Step 81000/100000\n",
      "Step 82000/100000\n",
      "Step 83000/100000\n",
      "Step 84000/100000\n",
      "Step 85000/100000\n",
      "Step 86000/100000\n",
      "Step 87000/100000\n",
      "Step 88000/100000\n",
      "Step 89000/100000\n",
      "Step 90000/100000\n",
      "Step 91000/100000\n",
      "Step 92000/100000\n",
      "Step 93000/100000\n",
      "Step 94000/100000\n",
      "Step 95000/100000\n",
      "Step 96000/100000\n",
      "Step 97000/100000\n",
      "Step 98000/100000\n",
      "Step 99000/100000\n"
     ]
    }
   ],
   "source": [
    "from sortedcontainers import SortedList\n",
    "\n",
    "sls = [SortedList() for _ in range(n_dirs)]\n",
    "proj = np.zeros((T, n_dirs))\n",
    "for i in range(1, T):\n",
    "    if i % 1000 == 0 and i != 1:\n",
    "        print(f\"Step {i}/{T}\")\n",
    "    # Model-based PDF, CDF, projections\n",
    "    pdfs, cdfs, proj_xt = projected_pdf_cdf_mog(dirs, f[i - 1], means, covs, weights)\n",
    "    proj[i - 1] = proj_xt\n",
    "    # SortedList method\n",
    "    F_push = np.empty(n_dirs, dtype=float)\n",
    "    for j in range(n_dirs):\n",
    "        cnt_prev = sls[j].bisect_right(proj_xt[j])\n",
    "        F_push[j] = (cnt_prev + 1) / i\n",
    "    for j in range(n_dirs):\n",
    "        sls[j].add(proj_xt[j])\n",
    "    deltas = F_push - cdfs\n",
    "    pdfs = np.maximum(pdfs, 1e-6)\n",
    "    grad = 1.5 * (deltas / (2 * pdfs * dt)) - 1 / (2 * pdfs) + (np.sign(deltas) / (2 * pdfs))\n",
    "    grad = grad @ dirs\n",
    "    grad /= np.linalg.norm(grad)\n",
    "    f[i] = f[i - 1] + v_max * dt * grad"
   ]
  },
  {
   "cell_type": "code",
   "execution_count": 182,
   "metadata": {},
   "outputs": [
    {
     "data": {
      "image/png": "[encoded data removed]",
      "text/plain": [
       "<Figure size 600x500 with 1 Axes>"
      ]
     },
     "metadata": {},
     "output_type": "display_data"
    }
   ],
   "source": [
    "fig, ax = plt.subplots(figsize=(6, 5), dpi=100, tight_layout=True)\n",
    "ax.set_aspect('equal')\n",
    "ax.set_xlim(0.0, L_list[0])\n",
    "ax.set_ylim(0.0, L_list[1])\n",
    "ax.set_title('Original PDF')\n",
    "ax.contourf(grids_x, grids_y, pdf_vals.reshape(grids_x.shape), cmap='Reds')\n",
    "ax.plot(f[::10,0], f[::10,1], linestyle='-', marker='', color='k', alpha=0.2, label='Trajectory')\n",
    "ax.plot(f[0,0], f[0,1], linestyle='', marker='o', markersize=15, color='C2', alpha=1.0, label='Initial state')\n",
    "ax.legend(loc=1)\n",
    "\n",
    "plt.show()\n",
    "plt.close()"
   ]
  },
  {
   "cell_type": "code",
   "execution_count": 183,
   "metadata": {},
   "outputs": [
    {
     "name": "stderr",
     "output_type": "stream",
     "text": [
      "2025-08-13 11:01:32,081 |  WARNING | legend.py:1236 | No artists with labels found to put in legend.  Note that artists whose label start with an underscore are ignored when legend() is called with no argument.\n"
     ]
    },
    {
     "data": {
      "image/png": "[encoded data removed]",
      "text/plain": [
       "<Figure size 600x500 with 1 Axes>"
      ]
     },
     "metadata": {},
     "output_type": "display_data"
    }
   ],
   "source": [
    "mu_samples = sample_from_density_2d(pdf_vals.reshape(num_grid, num_grid), grids_x, grids_y, n_samples = f.shape[0])\n",
    "fig, ax = plt.subplots(figsize=(6, 5), dpi=100, tight_layout=True)\n",
    "ax.set_aspect('equal')\n",
    "ax.set_xlim(0.0, L_list[0])\n",
    "ax.set_ylim(0.0, L_list[1])\n",
    "ax.set_title('Original PDF')\n",
    "#ax.contourf(grids_x, grids_y, pdf_vals.reshape(grids_x.shape), cmap='Reds')\n",
    "ax.scatter(f[::10, 0], f[::10, 1], s=10, color='blue')\n",
    "#ax.scatter(mu_samples[::10, 0], mu_samples[::10, 1], s=10, color='green')\n",
    "ax.legend(loc=1)\n",
    "plt.show()\n",
    "plt.close()"
   ]
  },
  {
   "cell_type": "code",
   "execution_count": null,
   "metadata": {},
   "outputs": [],
   "source": [
    "#### IN the beginning use esact cdf and after the Algorithmn already converged, i.e around 30k steps use Quantile cdf!"
   ]
  },
  {
   "cell_type": "code",
   "execution_count": null,
   "metadata": {},
   "outputs": [],
   "source": [
    "#w1 = compute_wasserstein_2d(pdf_vals.reshape(num_grid, num_grid), grids_x, grids_y, f[:,:])\n",
    "#Wasserstein.append(w1)\n",
    "#print(w1)"
   ]
  },
  {
   "cell_type": "code",
   "execution_count": null,
   "metadata": {},
   "outputs": [],
   "source": [
    "mu_samples = sample_from_density_2d(pdf_vals.reshape(num_grid, num_grid), grids_x, grids_y, n_samples = f.shape[0])\n",
    "optimal = np.sum(np.log(pdf(mu_samples)))\n",
    "samples = np.sum(np.log(pdf(f)))"
   ]
  },
  {
   "cell_type": "code",
   "execution_count": null,
   "metadata": {},
   "outputs": [],
   "source": [
    "mu_samples_2 = sample_from_density_2d(pdf_vals.reshape(num_grid, num_grid), grids_x, grids_y, n_samples = f.shape[0])\n"
   ]
  },
  {
   "cell_type": "code",
   "execution_count": null,
   "metadata": {},
   "outputs": [
    {
     "data": {
      "text/plain": [
       "0.002000020000200014"
      ]
     },
     "execution_count": 138,
     "metadata": {},
     "output_type": "execute_result"
    }
   ],
   "source": [
    "np.linalg.norm(f[0]- f[1])"
   ]
  },
  {
   "cell_type": "code",
   "execution_count": null,
   "metadata": {},
   "outputs": [
    {
     "data": {
      "text/plain": [
       "array([[0.5   , 0.5   ],\n",
       "       [0.4987, 0.4985],\n",
       "       [0.4974, 0.497 ],\n",
       "       ...,\n",
       "       [0.3245, 0.4772],\n",
       "       [0.3257, 0.4788],\n",
       "       [0.3268, 0.4804]])"
      ]
     },
     "execution_count": 139,
     "metadata": {},
     "output_type": "execute_result"
    }
   ],
   "source": [
    "f"
   ]
  },
  {
   "cell_type": "code",
   "execution_count": null,
   "metadata": {},
   "outputs": [],
   "source": [
    "#!python3 -m pip install POT\n",
    "L_list = np.array([1.0, 1.0])  # boundaries for each dimension\n",
    "num_grid = 100\n",
    "grids_x, grids_y = np.meshgrid(\n",
    "    np.linspace(0, L_list[0], num_grid),\n",
    "    np.linspace(0, L_list[1], num_grid)\n",
    ")\n",
    "grids = np.array([grids_x.ravel(), grids_y.ravel()]).T\n",
    "pdf_vals = pdf(grids)\n",
    "def sample_from_density_2d(p_vals, x_grid, y_grid, n_samples = 10000):\n",
    "    \"\"\"Sample from 2D density given over meshgrid\"\"\"\n",
    "    H, W = p_vals.shape\n",
    "    flat_p = p_vals.ravel()\n",
    "    flat_p /= flat_p.sum()  # Normalize\n",
    "\n",
    "    indices = np.random.choice(H * W, size=n_samples, p=flat_p)\n",
    "    x_flat = x_grid.ravel()[indices]\n",
    "    y_flat = y_grid.ravel()[indices]\n",
    "    return np.stack([x_flat, y_flat], axis=1)"
   ]
  },
  {
   "cell_type": "code",
   "execution_count": 184,
   "metadata": {},
   "outputs": [
    {
     "name": "stdout",
     "output_type": "stream",
     "text": [
      "1.4557799903598463 emp\n",
      "-0.0704389967442296 opt\n"
     ]
    }
   ],
   "source": [
    "import infomeasure as im\n",
    "mu_samples = sample_from_density_2d(pdf_vals.reshape(num_grid, num_grid), grids_x, grids_y, n_samples = f.shape[0])\n",
    "mu_samples_test = sample_from_density_2d(pdf_vals.reshape(num_grid, num_grid), grids_x, grids_y, n_samples = f.shape[0])\n",
    "print(im.kld(f,mu_samples, approach='metric'), 'emp')\n",
    "print(im.kld(mu_samples_test, mu_samples, approach='metric'), 'opt')"
   ]
  },
  {
   "cell_type": "code",
   "execution_count": null,
   "metadata": {},
   "outputs": [],
   "source": []
  },
  {
   "cell_type": "code",
   "execution_count": null,
   "metadata": {},
   "outputs": [
    {
     "data": {
      "text/plain": [
       "'#!python3 -m pip install hyppo\\nfrom hyppo.ksample import KSample\\n\\ntests = [\"CCA\", \"RV\"]\\n\\nfor test_name in tests:\\n    print(f\"Running KSample with indep_test=\\'{test_name}\\'\")\\n    ks = KSample(indep_test=test_name)\\n    stat, pval = ks.test(mu_samples, f)\\n    print(f\"{test_name} stat: {stat:.4f}, p-value: {pval:.4g}\\n\")'"
      ]
     },
     "execution_count": 142,
     "metadata": {},
     "output_type": "execute_result"
    }
   ],
   "source": [
    "\"\"\"#!python3 -m pip install hyppo\n",
    "from hyppo.ksample import KSample\n",
    "\n",
    "tests = [\"CCA\", \"RV\"]\n",
    "\n",
    "for test_name in tests:\n",
    "    print(f\"Running KSample with indep_test='{test_name}'\")\n",
    "    ks = KSample(indep_test=test_name)\n",
    "    stat, pval = ks.test(mu_samples, f)\n",
    "    print(f\"{test_name} stat: {stat:.4f}, p-value: {pval:.4g}\\n\")\"\"\"\n"
   ]
  },
  {
   "cell_type": "code",
   "execution_count": null,
   "metadata": {},
   "outputs": [],
   "source": [
    "from scipy.stats import gaussian_kde\n",
    "def sanov_upper_bound(f, pdf, bandwidth='scott'):\n",
    "    \"\"\"\n",
    "    Compute Sanov's upper bound on the probability that the empirical distribution of f\n",
    "    comes from a distribution with density pdf.\n",
    "\n",
    "    Parameters:\n",
    "    - f: np.ndarray, shape (n_samples, d), the sample points\n",
    "    - pdf: callable, function that accepts f[i] and returns pdf(x)\n",
    "    - bandwidth: str or float, bandwidth method for KDE\n",
    "\n",
    "    Returns:\n",
    "    - kl_estimate: float, D_KL(empirical || pdf)\n",
    "    - bound: float, upper bound on probability under Sanov\n",
    "    \"\"\"\n",
    "\n",
    "    n_samples, d = f.shape\n",
    "\n",
    "    # Estimate empirical distribution using KDE\n",
    "    kde_empirical = gaussian_kde(f.T, bw_method=0.001)\n",
    "\n",
    "    # Evaluate densities at sample points\n",
    "    p_vals = kde_empirical(f.T) + 1e-12  # empirical density\n",
    "    q_vals = pdf(f) + 1e-12            # model density\n",
    "\n",
    "    # KL divergence estimate\n",
    "    kl_estimate = np.mean(np.log(p_vals / q_vals))\n",
    "\n",
    "    # Sanov upper bound\n",
    "    bound = np.exp(-n_samples * kl_estimate)\n",
    "\n",
    "    return kl_estimate, bound\n",
    "\n",
    "#kl, bound = sanov_upper_bound(f, pdf)\n",
    "#print(f\"Estimated KL divergence: {kl:.6f}\")\n",
    "#print(f\"Sanov upper bound: {bound:.2e}\")\n",
    "#mu_samples = sample_from_density_2d(pdf_vals.reshape(num_grid, num_grid), grids_x, grids_y, n_samples = f.shape[0])\n",
    "#kl, bound = sanov_upper_bound(mu_samples, pdf)\n",
    "#print(f\"Optimal Estimated KL divergence: {kl:.6f}\")\n",
    "#print(f\"Optimal Sanov upper bound: {bound:.2e}\")"
   ]
  },
  {
   "cell_type": "code",
   "execution_count": null,
   "metadata": {},
   "outputs": [],
   "source": [
    "def sanov_upper_bound(f, pdf):\n",
    "    \"\"\"\n",
    "    Compute Sanov's upper bound on the probability that the empirical distribution of `f`\n",
    "    deviates from a reference distribution with density `pdf`.\n",
    "\n",
    "    Parameters:\n",
    "    - f: np.ndarray, shape (n_samples, d), the sample points\n",
    "    - pdf: callable, function that accepts f (N,d) and returns p(x) as (N,) array\n",
    "\n",
    "    Returns:\n",
    "    - kl_estimate: float, D_KL(empirical || pdf)\n",
    "    - bound: float, Sanov upper bound on the probability\n",
    "    \"\"\"\n",
    "\n",
    "    n_samples = f.shape[0]\n",
    "\n",
    "    # Evaluate target PDF at sample points (theoretical p(x))\n",
    "    p_vals = pdf(f)\n",
    "    # Empirical density puts 1/n mass at each point => KL(empirical || pdf)\n",
    "    kl_estimate = np.log(n_samples) - np.mean(np.log(p_vals))\n",
    "\n",
    "    # Sanov bound: P(empirical ≈ f) ≤ exp(-n * D_KL)\n",
    "    bound = np.exp(-n_samples * kl_estimate)\n",
    "\n",
    "    return kl_estimate, bound\n",
    "\n",
    "#kl, bound = sanov_upper_bound(f, pdf)\n",
    "#print(f\"Estimated KL divergence: {kl:.6f}\")\n",
    "#print(f\"Sanov upper bound: {bound:.2e}\")\n",
    "#mu_samples = sample_from_density_2d(pdf_vals.reshape(num_grid, num_grid), grids_x, grids_y, n_samples = f.shape[0])\n",
    "#kl, bound = sanov_upper_bound(mu_samples, pdf)\n",
    "#print(f\"Optimal Estimated KL divergence: {kl:.6f}\")\n",
    "#print(f\"Optimal Sanov upper bound: {bound:.2e}\")"
   ]
  },
  {
   "cell_type": "code",
   "execution_count": null,
   "metadata": {},
   "outputs": [
    {
     "data": {
      "text/plain": [
       "<matplotlib.collections.PathCollection at 0x149270b46d0>"
      ]
     },
     "execution_count": 145,
     "metadata": {},
     "output_type": "execute_result"
    },
    {
     "data": {
      "image/png": "[encoded data removed]",
      "text/plain": [
       "<Figure size 600x500 with 1 Axes>"
      ]
     },
     "metadata": {},
     "output_type": "display_data"
    }
   ],
   "source": [
    "fig, ax = plt.subplots(figsize=(6, 5), dpi=100, tight_layout=True)\n",
    "ax.scatter(f[5000:6000,0], f[5000:6000,1], color='k', alpha=0.2, label='Trajectory', s = 1)\n"
   ]
  },
  {
   "cell_type": "code",
   "execution_count": null,
   "metadata": {},
   "outputs": [
    {
     "name": "stdout",
     "output_type": "stream",
     "text": [
      "108824.39499227809 100639.93587846405\n"
     ]
    }
   ],
   "source": [
    "print(optimal, samples)"
   ]
  },
  {
   "cell_type": "code",
   "execution_count": null,
   "metadata": {},
   "outputs": [
    {
     "data": {
      "image/png": "[encoded data removed]",
      "text/plain": [
       "<Figure size 640x480 with 1 Axes>"
      ]
     },
     "metadata": {},
     "output_type": "display_data"
    }
   ],
   "source": [
    "plt.plot(Wasserstein)\n",
    "plt.show()"
   ]
  },
  {
   "cell_type": "code",
   "execution_count": null,
   "metadata": {},
   "outputs": [
    {
     "data": {
      "text/plain": [
       "'from scipy.stats import gaussian_kde\\nx, y = f[:, 0], f[:, 1]\\n#samples_2d = np.random.multivariate_normal(mean=[0, 0], cov=[[1, 0.6], [0.6, 1]], size=1000)\\n#x, y = samples_2d[:, 0], samples_2d[:, 1]\\n# KDE estimation\\nkde = gaussian_kde(np.array([x,y]), bw_method = \\'silverman\\')\\n# Grid for evaluation\\nxgrid = np.linspace(x.min()-1, x.max()+1, 400)\\nygrid = np.linspace(y.min()-1, y.max()+1, 400)\\nX, Y = np.meshgrid(xgrid, ygrid)\\npositions = np.vstack([X.ravel(), Y.ravel()])\\nZ = kde(positions).reshape(X.shape)\\n# Plot\\nplt.contourf(X, Y, Z, levels=50, cmap=\"viridis\")\\nplt.colorbar(label=\"Density\")\\nplt.scatter(x, y, s=5, alpha=0.3, color=\\'white\\')\\nplt.title(\"2D Kernel Density Estimate\")\\nplt.xlabel(\"X\")\\nplt.ylabel(\"Y\")\\nplt.show()'"
      ]
     },
     "execution_count": 148,
     "metadata": {},
     "output_type": "execute_result"
    }
   ],
   "source": [
    "\"\"\"from scipy.stats import gaussian_kde\n",
    "x, y = f[:, 0], f[:, 1]\n",
    "#samples_2d = np.random.multivariate_normal(mean=[0, 0], cov=[[1, 0.6], [0.6, 1]], size=1000)\n",
    "#x, y = samples_2d[:, 0], samples_2d[:, 1]\n",
    "# KDE estimation\n",
    "kde = gaussian_kde(np.array([x,y]), bw_method = 'silverman')\n",
    "# Grid for evaluation\n",
    "xgrid = np.linspace(x.min()-1, x.max()+1, 400)\n",
    "ygrid = np.linspace(y.min()-1, y.max()+1, 400)\n",
    "X, Y = np.meshgrid(xgrid, ygrid)\n",
    "positions = np.vstack([X.ravel(), Y.ravel()])\n",
    "Z = kde(positions).reshape(X.shape)\n",
    "# Plot\n",
    "plt.contourf(X, Y, Z, levels=50, cmap=\"viridis\")\n",
    "plt.colorbar(label=\"Density\")\n",
    "plt.scatter(x, y, s=5, alpha=0.3, color='white')\n",
    "plt.title(\"2D Kernel Density Estimate\")\n",
    "plt.xlabel(\"X\")\n",
    "plt.ylabel(\"Y\")\n",
    "plt.show()\"\"\""
   ]
  },
  {
   "cell_type": "code",
   "execution_count": null,
   "metadata": {},
   "outputs": [],
   "source": []
  },
  {
   "cell_type": "code",
   "execution_count": null,
   "metadata": {},
   "outputs": [],
   "source": [
    "import numpy as np\n",
    "\n",
    "def total_variation_distance(p_samples, q_samples, bins=50, range=[[0, 1], [0, 1]]):\n",
    "    \"\"\"\n",
    "    Computes the total variation distance between two empirical distributions.\n",
    "    \n",
    "    Parameters:\n",
    "        p_samples: np.ndarray of shape (N, 2) — samples from distribution P\n",
    "        q_samples: np.ndarray of shape (M, 2) — samples from distribution Q\n",
    "        bins: int or [int, int] — number of bins along each axis\n",
    "        range: list of 2D bounds — [[x_min, x_max], [y_min, y_max]]\n",
    "    \n",
    "    Returns:\n",
    "        TV distance (float)\n",
    "    \"\"\"\n",
    "    # Compute 2D histograms\n",
    "    H_p, _ = np.histogramdd(p_samples, bins=bins, range=range, density=True)\n",
    "    H_q, _ = np.histogramdd(q_samples, bins=bins, range=range, density=True)\n",
    "\n",
    "    # Bin volume\n",
    "    vol = np.prod([(r[1] - r[0]) / b for r, b in zip(range, np.atleast_1d(bins))])\n",
    "\n",
    "    # TV distance\n",
    "    tv = 0.5 * np.mean(np.abs(H_p - H_q)) * vol\n",
    "    return tv\n",
    "\n",
    "#mu_samples = sample_from_density_2d(pdf_vals.reshape(num_grid, num_grid), grids_x, grids_y, n_samples = f.shape[1])\n",
    "#tv = total_variation_distance(mu_samples, f)\n",
    "#print(tv)"
   ]
  },
  {
   "cell_type": "code",
   "execution_count": null,
   "metadata": {},
   "outputs": [],
   "source": [
    "import numpy as np\n",
    "from scipy.stats import wasserstein_distance\n",
    "\n",
    "def trajectory_to_distance(f, target_samples, n_samples=1000, metric=\"wasserstein\"):\n",
    "    \"\"\"\n",
    "    Computes the distance between the pushforward of the uniform measure by f\n",
    "    and a target distribution represented by samples.\n",
    "\n",
    "    Parameters:\n",
    "        f: function f(t), t in [0,1] -> R^d\n",
    "        target_samples: array of shape (N, d), samples from target distribution\n",
    "        n_samples: number of samples to draw from uniform [0,1]\n",
    "        metric: \"wasserstein\" or \"sinkhorn\"\n",
    "\n",
    "    Returns:\n",
    "        scalar distance value\n",
    "    \"\"\"\n",
    "    pushed_samples = f\n",
    "    \n",
    "    if metric == \"wasserstein\":\n",
    "        # Average 1D Wasserstein over dimensions\n",
    "        d = target_samples.shape[1]\n",
    "        distances = [\n",
    "            wasserstein_distance(pushed_samples[:, i], target_samples[:, i])\n",
    "            for i in range(d)\n",
    "        ]\n",
    "        return np.mean(distances)\n",
    "    \n",
    "    elif metric == \"sinkhorn\":\n",
    "        import ot\n",
    "        a = np.ones(n_samples) / n_samples\n",
    "        b = np.ones(target_samples.shape[0]) / target_samples.shape[0]\n",
    "        M = ot.dist(pushed_samples, target_samples, metric='sqeuclidean')\n",
    "        return ot.sinkhorn2(a, b, M, reg=0.01)[0]\n",
    "\n",
    "    else:\n",
    "        raise ValueError(\"Unknown metric. Use 'wasserstein' or 'sinkhorn'.\")\n",
    "    \n",
    "#trajectory_to_distance(f, mu_samples, metric = 'wasserstein')"
   ]
  }
 ],
 "metadata": {
  "kernelspec": {
   "display_name": "Python 3",
   "language": "python",
   "name": "python3"
  },
  "language_info": {
   "codemirror_mode": {
    "name": "ipython",
    "version": 3
   },
   "file_extension": ".py",
   "mimetype": "text/x-python",
   "name": "python",
   "nbconvert_exporter": "python",
   "pygments_lexer": "ipython3",
   "version": "3.11.0"
  }
 },
 "nbformat": 4,
 "nbformat_minor": 2
}
